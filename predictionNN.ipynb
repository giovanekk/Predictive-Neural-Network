{
 "cells": [
  {
   "cell_type": "markdown",
   "id": "dbc8865d",
   "metadata": {},
   "source": [
    "# Introduction to Data Science Project: Prediction Neural Networks"
   ]
  },
  {
   "cell_type": "code",
   "execution_count": 42,
   "id": "f50b9544",
   "metadata": {},
   "outputs": [],
   "source": [
    "import pandas as pd\n",
    "import torch\n",
    "import numpy as np\n",
    "import matplotlib.pyplot as plt\n",
    "import torch.nn as nn\n",
    "import torch.optim as optim\n",
    "from torch.utils.data import DataLoader, TensorDataset\n",
    "from sklearn.preprocessing import StandardScaler\n",
    "from sklearn.preprocessing import StandardScaler\n",
    "from sklearn.cluster import KMeans\n",
    "import matplotlib.pyplot as plt\n"
   ]
  },
  {
   "cell_type": "markdown",
   "id": "6b50ff70",
   "metadata": {},
   "source": [
    "## Reading data"
   ]
  },
  {
   "cell_type": "code",
   "execution_count": 43,
   "id": "c9cb4b90",
   "metadata": {},
   "outputs": [],
   "source": [
    "# Get data and clean it\n",
    "df23 = pd.read_csv('23-24.csv', delimiter=';')\n",
    "#drop last row of df23:\n",
    "df23 = df23.drop(df23.index[-1])\n",
    "df24 = pd.read_csv('24-25.csv', delimiter=';')\n",
    "df = pd.concat([df23, df24])\n",
    "df = df.drop(columns=['Pedido','Hora','Representante','Status','Observa��o','Cliente Desde',\n",
    "                      'Devol','Cidade','UF','numero','numero2','telefone','NF','Method'])\n",
    "df = df.dropna(axis=1, how='all') #drop all columns that are all NaN\n",
    "df = df.dropna(axis=0, how='all') #this might drop everything\n",
    "#translate column names from portuguese to english\n",
    "df = df.rename(columns={'Data':'Date','Vendedor':'Seller',\n",
    "                        'Quantidade':'Quantity',\n",
    "                        'Total Bruto':'Gross', 'Pagamento':'Payment Method',\n",
    "                        'Desconto':'Discount','Frete':'Shipping',\n",
    "                        'datadecompra':'Purchase Date','Devolu��o':'Returned','L�quido':'Net',\n",
    "                        'Cliente':'Client','Qtde':'Quantity'})\n",
    "\n",
    "# Turn all commas into dots for decimal numbers (in Brazilian Portuguese, commas are used as decimal separators)\n",
    "df = df.replace(',', '.', regex=True) #replace commas with dots\n"
   ]
  },
  {
   "cell_type": "markdown",
   "id": "3545daea",
   "metadata": {},
   "source": [
    "## Preparing Data for Neural Network"
   ]
  },
  {
   "cell_type": "code",
   "execution_count": 44,
   "id": "5f35643c",
   "metadata": {},
   "outputs": [],
   "source": [
    "# Make non-numeric columns numeric (Date, Sales Representative, Client Age and Clients) \n",
    "\n",
    "#Date (make numeric)\n",
    "# Convert to datetime\n",
    "df['Purchase Date'] = pd.to_datetime(df['Purchase Date'], format='%d/%m/%Y')\n",
    "df['Date'] = pd.to_datetime(df['Date'], format='%d/%m/%Y')\n",
    "\n",
    "#Compute the Client's age in days:\n",
    "\n",
    "# Get the most recent date in dataset\n",
    "latest_date = df['Purchase Date'].max()\n",
    "client_age = df.groupby('Client')['Date'].min().apply(lambda d: (latest_date - d).days)\n",
    "# Merge client age back into full dataframe\n",
    "df['Client Age'] = df['Client'].map(client_age)\n",
    "df = df.drop(columns=['Date']) #drop date columns\n",
    "\n",
    "# Purchase Date (turn into Last Purchase in days)\n",
    "df['Purchase Date'] = pd.to_datetime(df['Purchase Date'], format='%d/%m/%Y')\n",
    "df= df.sort_values(by=['Client','Purchase Date'])\n",
    "df['Last Purchase'] = df.groupby('Client')['Purchase Date'].diff().dt.days\n",
    "df = df.drop(columns=['Purchase Date']) #drop purchase date column\n",
    "\n",
    "#Seller (remove 04 and then one hot encode)\n",
    "df = df[df.Seller != '04'] #drop seller 04. I don't know what 04 means, so I will drop it.\n",
    "df = pd.get_dummies(df, columns=['Seller'], prefix='Seller')\n",
    "\n",
    "#Payment Method (don't include)\n",
    "df = df.drop(columns=['Payment Method']) #drop payment method column\n",
    "\n",
    "#Clients\n",
    "# There are more than 600 clients, so we will not one hot encode them. \n",
    "# Instead, we will plot the Gross, Quantity, and Date features of each client and \n",
    "# use K means clustering to categorize them.\n",
    "# Using these new categories, we will one hot encode them.\n",
    "\n",
    "# Find any cell that literally contains the problematic string\n",
    "# Convert critical columns to numeric safely\n",
    "for col in ['Gross', 'Quantity', 'Client Age']:\n",
    "    df[col] = pd.to_numeric(df[col], errors='coerce')\n",
    "\n",
    "df = df[df.Client != ''] #drop empty clients\n",
    "# Show rows that were invalid\n",
    "bad_rows = df[df.isna().any(axis=1)]\n",
    "# if not bad_rows.empty:\n",
    "#     print(\"Dropping rows with malformed numbers:\")\n",
    "#     print(bad_rows[['Client', 'Gross', 'Quantity', 'Client Age']])\n",
    "\n",
    "# Drop rows that still contain NaNs after coercion\n",
    "df = df.dropna(subset=['Gross', 'Quantity', 'Client Age'])\n",
    "\n",
    "client_features = df.groupby('Client').agg({\n",
    "    'Gross': 'sum',\n",
    "    'Quantity': 'sum',\n",
    "    'Client Age': 'first'  \n",
    "}).fillna(0)\n",
    "X_client = StandardScaler().fit_transform(client_features)\n",
    "kmeans = KMeans(n_clusters=6, random_state=45)\n",
    "clusters = kmeans.fit_predict(X_client)\n",
    "\n",
    "# Map clusters back to original df\n",
    "client_cluster_map = dict(zip(client_features.index, clusters))\n",
    "df['Client Cluster'] = df['Client'].map(client_cluster_map)\n",
    "df = df.drop(columns=['Client']) #drop client column\n",
    "df = pd.get_dummies(df, columns=['Client Cluster'], prefix='Cluster')\n",
    "\n",
    "# Final Cleaning\n",
    "df = df.dropna()\n",
    "\n",
    "\n",
    "# Get input data\n",
    "X = df.drop(columns=['Gross']) #drop gross column\n",
    "X = X.astype(np.float32) #convert to float32\n",
    "scaler_X = StandardScaler()\n",
    "X_scaled = scaler_X.fit_transform(X)\n",
    "\n",
    "# Get target data\n",
    "y = df['Gross'] #get gross column\n",
    "y = y.astype(np.float32) #convert to float32\n",
    "scaler_y = StandardScaler()\n",
    "y_scaled = scaler_y.fit_transform(y.values.reshape(-1, 1)).flatten()\n"
   ]
  },
  {
   "cell_type": "markdown",
   "id": "90e78547",
   "metadata": {},
   "source": [
    "## Turn data into tensors"
   ]
  },
  {
   "cell_type": "code",
   "execution_count": 45,
   "id": "a2c245a3",
   "metadata": {},
   "outputs": [
    {
     "name": "stdout",
     "output_type": "stream",
     "text": [
      "Checking for NaN and Inf values in tensors:\n",
      "tensor(False) tensor(False) tensor(77870.7031) tensor(-5327.9399)\n",
      "tensor(False) tensor(False) tensor(11.0950) tensor(-0.9103)\n"
     ]
    }
   ],
   "source": [
    "# turn into tensors\n",
    "y_tensor = torch.tensor(y_scaled, dtype=torch.float32)\n",
    "\n",
    "X_tensor = torch.tensor(X.values, dtype=torch.float32)\n",
    "\n",
    "dataset = TensorDataset(X_tensor, y_tensor)\n",
    "loader = DataLoader(dataset, batch_size=32, shuffle=True)\n",
    "\n",
    "# Check for NaN and Inf values in the tensors\n",
    "print(\"Checking for NaN and Inf values in tensors:\")\n",
    "print(torch.isnan(X_tensor).any(), torch.isinf(X_tensor).any(), X_tensor.max(), X_tensor.min())\n",
    "print(torch.isnan(y_tensor).any(), torch.isinf(y_tensor).any(), y_tensor.max(), y_tensor.min())\n"
   ]
  },
  {
   "cell_type": "markdown",
   "id": "d13e19dc",
   "metadata": {},
   "source": [
    "## Define model 1 (not used):"
   ]
  },
  {
   "cell_type": "code",
   "execution_count": 46,
   "id": "7683c289",
   "metadata": {},
   "outputs": [],
   "source": [
    "# Define the neural network model (SIMPLE ARCHITECTURE)\n",
    "# This is a simple feedforward neural network with two hidden layers\n",
    "class NeuralNetwork(nn.Module):\n",
    "    def __init__(self):\n",
    "        super(NeuralNetwork, self).__init__()\n",
    "        self.fc1 = nn.Linear(X_tensor.shape[1], 300)  # Input layer\n",
    "        self.fc2 = nn.Linear(300, 150) # Hidden layer\n",
    "        self.fc3 = nn.Linear(150, 32) # Hidden layer\n",
    "        self.fc4 = nn.Linear(32, 1)\n",
    "        self.relu = nn.ReLU()\n",
    "\n",
    "    def forward(self, x):\n",
    "        x = self.relu(self.fc1(x))\n",
    "        x = self.relu(self.fc2(x))\n",
    "        x = self.relu(self.fc3(x))\n",
    "        x = self.fc4(x)\n",
    "        return x\n",
    "\n",
    "model = NeuralNetwork()\n",
    "\n",
    "# This model is not working well, so we will try a different one"
   ]
  },
  {
   "cell_type": "markdown",
   "id": "4eaca4fc",
   "metadata": {},
   "source": [
    "For the above neural network, the gradients were exploding into infinity; therefore, I decided to train a different model."
   ]
  },
  {
   "cell_type": "markdown",
   "id": "da1edc1c",
   "metadata": {},
   "source": [
    "## Define Model 2 (used):"
   ]
  },
  {
   "cell_type": "code",
   "execution_count": 47,
   "id": "a035536b",
   "metadata": {},
   "outputs": [],
   "source": [
    "#second model (STABLENET)\n",
    "# More complex neural network with batch normalization and dropout\n",
    "class StableNet(nn.Module):\n",
    "    def __init__(self, input_size):\n",
    "        super().__init__()\n",
    "        self.net = nn.Sequential(\n",
    "            nn.Linear(input_size, 512),\n",
    "            nn.BatchNorm1d(512),\n",
    "            nn.ReLU(),\n",
    "            nn.Dropout(0.3),\n",
    "\n",
    "            nn.Linear(512, 256),\n",
    "            nn.BatchNorm1d(256),\n",
    "            nn.ReLU(),\n",
    "            nn.Dropout(0.3),\n",
    "\n",
    "            nn.Linear(256, 64),\n",
    "            nn.BatchNorm1d(64),\n",
    "            nn.ReLU(),\n",
    "\n",
    "            nn.Linear(64, 1)\n",
    "        )\n",
    "\n",
    "    def forward(self, x):\n",
    "        return self.net(x).squeeze(1)\n",
    "    \n",
    "model2 = StableNet(X_tensor.shape[1])"
   ]
  },
  {
   "cell_type": "markdown",
   "id": "c596223f",
   "metadata": {},
   "source": [
    "## NN optimizer and criterion and training"
   ]
  },
  {
   "cell_type": "code",
   "execution_count": 48,
   "id": "41b74eac",
   "metadata": {},
   "outputs": [
    {
     "name": "stdout",
     "output_type": "stream",
     "text": [
      "Epoch 1/50, Loss: 0.030570313334465027\n",
      "Epoch 2/50, Loss: 0.8668935894966125\n",
      "Epoch 3/50, Loss: 0.04708019644021988\n",
      "Epoch 4/50, Loss: 0.04441186785697937\n",
      "Epoch 5/50, Loss: 0.05356324836611748\n",
      "Epoch 6/50, Loss: 0.07866987586021423\n",
      "Epoch 7/50, Loss: 0.012562054209411144\n",
      "Epoch 8/50, Loss: 0.160044863820076\n",
      "Epoch 9/50, Loss: 0.07184049487113953\n",
      "Epoch 10/50, Loss: 0.14872436225414276\n",
      "Epoch 11/50, Loss: 0.07196369022130966\n",
      "Epoch 12/50, Loss: 0.021384824067354202\n",
      "Epoch 13/50, Loss: 0.9240339398384094\n",
      "Epoch 14/50, Loss: 0.44971469044685364\n",
      "Epoch 15/50, Loss: 0.05255754664540291\n",
      "Epoch 16/50, Loss: 0.034200556576251984\n",
      "Epoch 17/50, Loss: 0.05835219472646713\n",
      "Epoch 18/50, Loss: 0.04336993023753166\n",
      "Epoch 19/50, Loss: 0.019836904481053352\n",
      "Epoch 20/50, Loss: 0.03644363954663277\n",
      "Epoch 21/50, Loss: 0.015863517299294472\n",
      "Epoch 22/50, Loss: 0.06726307421922684\n",
      "Epoch 23/50, Loss: 0.01644858345389366\n",
      "Epoch 24/50, Loss: 0.029603751376271248\n",
      "Epoch 25/50, Loss: 0.020011281594634056\n",
      "Epoch 26/50, Loss: 0.10420917719602585\n",
      "Epoch 27/50, Loss: 0.02783838100731373\n",
      "Epoch 28/50, Loss: 0.14200854301452637\n",
      "Epoch 29/50, Loss: 0.12078102678060532\n",
      "Epoch 30/50, Loss: 0.11560668796300888\n",
      "Epoch 31/50, Loss: 0.17443284392356873\n",
      "Epoch 32/50, Loss: 0.029084663838148117\n",
      "Epoch 33/50, Loss: 0.07010845839977264\n",
      "Epoch 34/50, Loss: 0.011904922313988209\n",
      "Epoch 35/50, Loss: 0.058947354555130005\n",
      "Epoch 36/50, Loss: 0.03158021345734596\n",
      "Epoch 37/50, Loss: 0.00988352857530117\n",
      "Epoch 38/50, Loss: 0.07630980759859085\n",
      "Epoch 39/50, Loss: 0.0231842789798975\n",
      "Epoch 40/50, Loss: 0.005939476657658815\n",
      "Epoch 41/50, Loss: 0.04678710550069809\n",
      "Epoch 42/50, Loss: 0.21965408325195312\n",
      "Epoch 43/50, Loss: 0.006379411090165377\n",
      "Epoch 44/50, Loss: 0.05115744471549988\n",
      "Epoch 45/50, Loss: 0.01177187543362379\n",
      "Epoch 46/50, Loss: 0.016495991498231888\n",
      "Epoch 47/50, Loss: 0.043860841542482376\n",
      "Epoch 48/50, Loss: 0.05988859012722969\n",
      "Epoch 49/50, Loss: 0.42337775230407715\n",
      "Epoch 50/50, Loss: 0.07236955314874649\n"
     ]
    }
   ],
   "source": [
    "# Define loss function and optimizer\n",
    "criterion = nn.MSELoss()\n",
    "optimizer = optim.Adam(model2.parameters(), lr=0.00025)\n",
    "\n",
    "# Prepare data for training\n",
    "dataset = TensorDataset(X_tensor, y_tensor)\n",
    "dataloader = DataLoader(dataset, batch_size=32, shuffle=True)\n",
    "\n",
    "# Train the model\n",
    "losses = []\n",
    "epochs = 50\n",
    "for epoch in range(epochs):\n",
    "    epoch_losses = []\n",
    "    for batch_X, batch_y in dataloader:\n",
    "        # Forward pass\n",
    "        predictions = model2(batch_X)\n",
    "        loss = criterion(predictions, batch_y)\n",
    "\n",
    "        # Backward pass and optimization\n",
    "        optimizer.zero_grad()\n",
    "        loss.backward()\n",
    "        optimizer.step()\n",
    "\n",
    "        epoch_losses.append(loss.item())\n",
    "\n",
    "    # Store average loss for the whole epoch\n",
    "    avg_loss = sum(epoch_losses) / len(epoch_losses)\n",
    "    losses.append(avg_loss)\n",
    "\n",
    "    # Print loss for every epoch\n",
    "    print(f\"Epoch {epoch+1}/{epochs}, Loss: {loss.item()}\")"
   ]
  },
  {
   "cell_type": "markdown",
   "id": "f86eb016",
   "metadata": {},
   "source": [
    "## Plotting results"
   ]
  },
  {
   "cell_type": "code",
   "execution_count": 49,
   "id": "e68a62d0",
   "metadata": {},
   "outputs": [
    {
     "data": {
      "image/png": "[encoded data removed]",
      "text/plain": [
       "<Figure size 1000x600 with 1 Axes>"
      ]
     },
     "metadata": {},
     "output_type": "display_data"
    }
   ],
   "source": [
    "# Save the model\n",
    "plt.figure(figsize=(10, 6))\n",
    "plt.plot(range(1, len(losses) + 1), losses, marker='o')\n",
    "plt.xlabel(\"Epoch\")\n",
    "plt.ylabel(\"MSE Loss\")\n",
    "plt.title(\"Training Loss\")\n",
    "plt.grid(True)\n",
    "plt.tight_layout()\n",
    "plt.show()\n",
    "\n"
   ]
  },
  {
   "cell_type": "markdown",
   "id": "004ef1b4",
   "metadata": {},
   "source": [
    "## See results"
   ]
  },
  {
   "cell_type": "code",
   "execution_count": 51,
   "id": "71e7018b",
   "metadata": {},
   "outputs": [
    {
     "name": "stdout",
     "output_type": "stream",
     "text": [
      "   Predicted Gross  Actual Gross\n",
      "0      2895.527100   2625.100098\n",
      "1      1939.880249   1129.300171\n",
      "2      2694.773682   2168.800049\n",
      "3      1851.314575   1004.300232\n",
      "4      2442.087158   1838.900024\n",
      "5      2938.411865   2503.500000\n",
      "6      2502.889404   1918.799927\n",
      "7      3964.522949   3797.699951\n",
      "8      3082.237549   2648.500000\n",
      "9      2821.307129   2345.800049\n"
     ]
    }
   ],
   "source": [
    "model2.eval() \n",
    "with torch.no_grad():\n",
    "    predictions = model2(X_tensor)\n",
    "# Convert to NumPy and reshape\n",
    "predictions_np = predictions.numpy().reshape(-1, 1)\n",
    "\n",
    "# Inverse transform using your scaler\n",
    "predictions_original = scaler_y.inverse_transform(predictions_np).flatten()\n",
    "\n",
    "# Also get the true gross values in original scale\n",
    "true_gross = scaler_y.inverse_transform(y_tensor.numpy().reshape(-1, 1)).flatten()\n",
    "\n",
    "results_df = pd.DataFrame({\n",
    "    'Predicted Gross': predictions_original,\n",
    "    'Actual Gross': true_gross\n",
    "})\n",
    "print(results_df.head(10))  # Display the first 10 rows\n",
    "# results_df.to_csv('model_predictions.csv', index=False)\n"
   ]
  }
 ],
 "metadata": {
  "kernelspec": {
   "display_name": "Python 3",
   "language": "python",
   "name": "python3"
  },
  "language_info": {
   "codemirror_mode": {
    "name": "ipython",
    "version": 3
   },
   "file_extension": ".py",
   "mimetype": "text/x-python",
   "name": "python",
   "nbconvert_exporter": "python",
   "pygments_lexer": "ipython3",
   "version": "3.12.0"
  }
 },
 "nbformat": 4,
 "nbformat_minor": 5
}
